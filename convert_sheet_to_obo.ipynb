{
 "cells": [
  {
   "cell_type": "markdown",
   "metadata": {},
   "source": [
    "## Script convert google sheet to obo files (use Pronto)\n",
    "### TODO\n",
    "1. To decide the correct identifier of terms (term id). Should it be an url or just a text.\n",
    "2. To add xrefs of each format."
   ]
  },
  {
   "cell_type": "code",
   "execution_count": 1,
   "metadata": {},
   "outputs": [],
   "source": [
    "# load libraries\n",
    "import pronto \n",
    "import pandas as pd"
   ]
  },
  {
   "cell_type": "code",
   "execution_count": 2,
   "metadata": {},
   "outputs": [],
   "source": [
    "# read xlsx or google sheet\n",
    "url = \"https://docs.google.com/spreadsheets/d/1oS4_GcaFSBXkX4poZgN7mIvfjwWHJBb7ZBjmhmUOkns/export?format=csv&gid=0\"\n",
    "local = \"raw_data_format_list.csv\"                          \n",
    "name_list = pd.read_csv(url)"
   ]
  },
  {
   "cell_type": "code",
   "execution_count": 3,
   "metadata": {},
   "outputs": [
    {
     "data": {
      "text/plain": [
       "Index(['extension_ident', 'extension_1', 'format_name', 'type', 'description',\n",
       "       'rawness', 'semantic_qualitie', 'omics', 'openess', 'EP1',\n",
       "       'EDAM_ontology', 'other_ontology', 'users_base', 'metadata',\n",
       "       'reusability', 'achievability', 'structural_transparency '],\n",
       "      dtype='object')"
      ]
     },
     "execution_count": 3,
     "metadata": {},
     "output_type": "execute_result"
    }
   ],
   "source": [
    "# check the columns\n",
    "name_list.columns"
   ]
  },
  {
   "cell_type": "code",
   "execution_count": 4,
   "metadata": {},
   "outputs": [
    {
     "data": {
      "text/plain": [
       "Term('Metabolights')"
      ]
     },
     "execution_count": 4,
     "metadata": {},
     "output_type": "execute_result"
    }
   ],
   "source": [
    "# read the metadata\n",
    "terms = pronto.Ontology(\"ontology/terms_metadata.obo\") # todo add metadata by code\n",
    "class_dict = {'genomics':'ENA','transcriptomics':'GEO','proteomics':'PRIDE', 'metabolomics':'Metabolights'  }\n",
    "\n",
    "# adding classes\n",
    "terms.create_term(\"format\")\n",
    "terms.create_term(\"ENA\")\n",
    "terms.create_term(\"GEO\")\n",
    "terms.create_term(\"PRIDE\")\n",
    "terms.create_term(\"Metabolights\")\n",
    "# terms.create_term(\"\")\n",
    "\n",
    "\n"
   ]
  },
  {
   "cell_type": "code",
   "execution_count": 5,
   "metadata": {},
   "outputs": [],
   "source": [
    "# loop through the list and create terms\n",
    "for index, row in name_list.iterrows():\n",
    "    if row['EP1'] == 'YES': # check if it is accepted in the end point repositories alone or it must be submitted with other files\n",
    "        new_term = terms.create_term(\"terms_{}_{}\".format(row['extension_ident'], index)) # Term id\n",
    "        new_term.name = \"{} file format\".format(row['format_name']) # Term name\n",
    "        new_term.definition = pronto.Definition(\"{} file format\".format(row['description']), xrefs={pronto.Xref('{}'.format(row[\"EDAM_ontology\"]))})\n",
    "        new_term.superclasses().add(terms[\"format\"])\n",
    "        new_term.superclasses().add(terms[\"{}\".format(class_dict[row['omics']])])\n",
    "\n",
    "# save the obo file\n",
    "with open(\"formats_2_end-point_repo.obo\", \"wb\")as f:\n",
    "    terms.dump(f, format=\"obo\")"
   ]
  },
  {
   "cell_type": "code",
   "execution_count": null,
   "metadata": {},
   "outputs": [],
   "source": []
  }
 ],
 "metadata": {
  "kernelspec": {
   "display_name": "Python 3",
   "language": "python",
   "name": "python3"
  },
  "language_info": {
   "codemirror_mode": {
    "name": "ipython",
    "version": 3
   },
   "file_extension": ".py",
   "mimetype": "text/x-python",
   "name": "python",
   "nbconvert_exporter": "python",
   "pygments_lexer": "ipython3",
   "version": "3.7.5"
  }
 },
 "nbformat": 4,
 "nbformat_minor": 4
}
